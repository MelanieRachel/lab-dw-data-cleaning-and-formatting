{
 "cells": [
  {
   "cell_type": "markdown",
   "id": "25d7736c-ba17-4aff-b6bb-66eba20fbf4e",
   "metadata": {},
   "source": [
    "# Lab | Data Cleaning and Formatting"
   ]
  },
  {
   "cell_type": "markdown",
   "id": "d1973e9e-8be6-4039-b70e-d73ee0d94c99",
   "metadata": {},
   "source": [
    "In this lab, we will be working with the customer data from an insurance company, which can be found in the CSV file located at the following link: https://raw.githubusercontent.com/data-bootcamp-v4/data/main/file1.csv\n"
   ]
  },
  {
   "cell_type": "markdown",
   "id": "31b8a9e7-7db9-4604-991b-ef6771603e57",
   "metadata": {},
   "source": [
    "# Challenge 1: Data Cleaning and Formatting"
   ]
  },
  {
   "cell_type": "markdown",
   "id": "81553f19-9f2c-484b-8940-520aff884022",
   "metadata": {},
   "source": [
    "## Exercise 1: Cleaning Column Names"
   ]
  },
  {
   "cell_type": "markdown",
   "id": "34a929f4-1be4-4fa8-adda-42ffd920be90",
   "metadata": {},
   "source": [
    "To ensure consistency and ease of use, standardize the column names of the dataframe. Start by taking a first look at the dataframe and identifying any column names that need to be modified. Use appropriate naming conventions and make sure that column names are descriptive and informative.\n",
    "\n",
    "*Hint*:\n",
    "- *Column names should be in lower case*\n",
    "- *White spaces in column names should be replaced by `_`*\n",
    "- *`st` could be replaced for `state`*"
   ]
  },
  {
   "cell_type": "code",
   "execution_count": null,
   "id": "8aeb2ff9",
   "metadata": {},
   "outputs": [],
   "source": [
    "# To ensure consistency and ease of use, -standardize- the -column names of the dataframe-. \n",
    "# Start by taking a first -look at the dataframe- and identifying any -column names- that need -to be modified-. \n",
    "# Use -appropriate naming conventions- and make sure that -column names- are -descriptive and informative-.\n"
   ]
  },
  {
   "cell_type": "code",
   "execution_count": null,
   "id": "6a7cc305",
   "metadata": {},
   "outputs": [],
   "source": [
    "# Hint\n",
    "    # Column names should be in lower case\n",
    "    # White spaces in column names should be replaced by _\n",
    "    # st could be replaced for state"
   ]
  },
  {
   "cell_type": "code",
   "execution_count": 16,
   "id": "77e080de",
   "metadata": {},
   "outputs": [
    {
     "data": {
      "text/html": [
       "<div>\n",
       "<style scoped>\n",
       "    .dataframe tbody tr th:only-of-type {\n",
       "        vertical-align: middle;\n",
       "    }\n",
       "\n",
       "    .dataframe tbody tr th {\n",
       "        vertical-align: top;\n",
       "    }\n",
       "\n",
       "    .dataframe thead th {\n",
       "        text-align: right;\n",
       "    }\n",
       "</style>\n",
       "<table border=\"1\" class=\"dataframe\">\n",
       "  <thead>\n",
       "    <tr style=\"text-align: right;\">\n",
       "      <th></th>\n",
       "      <th>CONTROLN</th>\n",
       "      <th>STATE</th>\n",
       "      <th>GENDER</th>\n",
       "      <th>HV1</th>\n",
       "      <th>IC1</th>\n",
       "      <th>IC4</th>\n",
       "      <th>HVP1</th>\n",
       "      <th>IC5</th>\n",
       "      <th>POBC1</th>\n",
       "      <th>POBC2</th>\n",
       "      <th>IC2</th>\n",
       "      <th>IC3</th>\n",
       "      <th>AVGGIFT</th>\n",
       "      <th>TCODE</th>\n",
       "      <th>DOB</th>\n",
       "      <th>DOMAIN</th>\n",
       "      <th>TARGET_D</th>\n",
       "    </tr>\n",
       "  </thead>\n",
       "  <tbody>\n",
       "    <tr>\n",
       "      <th>0</th>\n",
       "      <td>44060</td>\n",
       "      <td>FL</td>\n",
       "      <td>M</td>\n",
       "      <td>AAA896</td>\n",
       "      <td>392</td>\n",
       "      <td>520.0</td>\n",
       "      <td>7</td>\n",
       "      <td>21975</td>\n",
       "      <td>6</td>\n",
       "      <td>16</td>\n",
       "      <td>430.0</td>\n",
       "      <td>466</td>\n",
       "      <td>28.000000</td>\n",
       "      <td>1</td>\n",
       "      <td>1901</td>\n",
       "      <td>C2</td>\n",
       "      <td>100.0</td>\n",
       "    </tr>\n",
       "    <tr>\n",
       "      <th>1</th>\n",
       "      <td>96093</td>\n",
       "      <td>IL</td>\n",
       "      <td>M</td>\n",
       "      <td>537.00</td>\n",
       "      <td>365</td>\n",
       "      <td>473.0</td>\n",
       "      <td>0</td>\n",
       "      <td>19387</td>\n",
       "      <td>1</td>\n",
       "      <td>89</td>\n",
       "      <td>415.0</td>\n",
       "      <td>410</td>\n",
       "      <td>5.666667</td>\n",
       "      <td>0</td>\n",
       "      <td>0</td>\n",
       "      <td>T2</td>\n",
       "      <td>7.0</td>\n",
       "    </tr>\n",
       "    <tr>\n",
       "      <th>2</th>\n",
       "      <td>43333</td>\n",
       "      <td>FL</td>\n",
       "      <td>F</td>\n",
       "      <td>725.00</td>\n",
       "      <td>301</td>\n",
       "      <td>436.0</td>\n",
       "      <td>3</td>\n",
       "      <td>18837</td>\n",
       "      <td>11</td>\n",
       "      <td>17</td>\n",
       "      <td>340.0</td>\n",
       "      <td>361</td>\n",
       "      <td>4.111111</td>\n",
       "      <td>0</td>\n",
       "      <td>2501</td>\n",
       "      <td>C2</td>\n",
       "      <td>5.0</td>\n",
       "    </tr>\n",
       "    <tr>\n",
       "      <th>3</th>\n",
       "      <td>21885</td>\n",
       "      <td>NC</td>\n",
       "      <td>M</td>\n",
       "      <td>AAA1095</td>\n",
       "      <td>401</td>\n",
       "      <td>413.0</td>\n",
       "      <td>7</td>\n",
       "      <td>14014</td>\n",
       "      <td>1</td>\n",
       "      <td>74</td>\n",
       "      <td>407.0</td>\n",
       "      <td>399</td>\n",
       "      <td>27.277778</td>\n",
       "      <td>0</td>\n",
       "      <td>2208</td>\n",
       "      <td>T2</td>\n",
       "      <td>38.0</td>\n",
       "    </tr>\n",
       "    <tr>\n",
       "      <th>4</th>\n",
       "      <td>190108</td>\n",
       "      <td>FL</td>\n",
       "      <td>F</td>\n",
       "      <td>995.00</td>\n",
       "      <td>252</td>\n",
       "      <td>348.0</td>\n",
       "      <td>0</td>\n",
       "      <td>17991</td>\n",
       "      <td>5</td>\n",
       "      <td>6</td>\n",
       "      <td>280.0</td>\n",
       "      <td>316</td>\n",
       "      <td>6.000000</td>\n",
       "      <td>28</td>\n",
       "      <td>0</td>\n",
       "      <td>C2</td>\n",
       "      <td>5.0</td>\n",
       "    </tr>\n",
       "    <tr>\n",
       "      <th>...</th>\n",
       "      <td>...</td>\n",
       "      <td>...</td>\n",
       "      <td>...</td>\n",
       "      <td>...</td>\n",
       "      <td>...</td>\n",
       "      <td>...</td>\n",
       "      <td>...</td>\n",
       "      <td>...</td>\n",
       "      <td>...</td>\n",
       "      <td>...</td>\n",
       "      <td>...</td>\n",
       "      <td>...</td>\n",
       "      <td>...</td>\n",
       "      <td>...</td>\n",
       "      <td>...</td>\n",
       "      <td>...</td>\n",
       "      <td>...</td>\n",
       "    </tr>\n",
       "    <tr>\n",
       "      <th>1002</th>\n",
       "      <td>114721</td>\n",
       "      <td>OK</td>\n",
       "      <td>NaN</td>\n",
       "      <td>1040</td>\n",
       "      <td>472</td>\n",
       "      <td>656.0</td>\n",
       "      <td>0</td>\n",
       "      <td>26962</td>\n",
       "      <td>2</td>\n",
       "      <td>56</td>\n",
       "      <td>609.0</td>\n",
       "      <td>579</td>\n",
       "      <td>11.666667</td>\n",
       "      <td>0</td>\n",
       "      <td>0</td>\n",
       "      <td>C2</td>\n",
       "      <td>15.0</td>\n",
       "    </tr>\n",
       "    <tr>\n",
       "      <th>1003</th>\n",
       "      <td>149152</td>\n",
       "      <td>CA</td>\n",
       "      <td>M</td>\n",
       "      <td>4507</td>\n",
       "      <td>842</td>\n",
       "      <td>962.0</td>\n",
       "      <td>95</td>\n",
       "      <td>54642</td>\n",
       "      <td>17</td>\n",
       "      <td>50</td>\n",
       "      <td>1004.0</td>\n",
       "      <td>893</td>\n",
       "      <td>20.000000</td>\n",
       "      <td>1</td>\n",
       "      <td>4401</td>\n",
       "      <td>S1</td>\n",
       "      <td>20.0</td>\n",
       "    </tr>\n",
       "    <tr>\n",
       "      <th>1004</th>\n",
       "      <td>959</td>\n",
       "      <td>IA</td>\n",
       "      <td>F</td>\n",
       "      <td>586</td>\n",
       "      <td>349</td>\n",
       "      <td>465.0</td>\n",
       "      <td>1</td>\n",
       "      <td>15304</td>\n",
       "      <td>1</td>\n",
       "      <td>77</td>\n",
       "      <td>413.0</td>\n",
       "      <td>404</td>\n",
       "      <td>7.300000</td>\n",
       "      <td>0</td>\n",
       "      <td>4404</td>\n",
       "      <td>C2</td>\n",
       "      <td>10.0</td>\n",
       "    </tr>\n",
       "    <tr>\n",
       "      <th>1005</th>\n",
       "      <td>179563</td>\n",
       "      <td>WA</td>\n",
       "      <td>male</td>\n",
       "      <td>842</td>\n",
       "      <td>420</td>\n",
       "      <td>494.0</td>\n",
       "      <td>2</td>\n",
       "      <td>12894</td>\n",
       "      <td>41</td>\n",
       "      <td>24</td>\n",
       "      <td>419.0</td>\n",
       "      <td>476</td>\n",
       "      <td>16.400000</td>\n",
       "      <td>1</td>\n",
       "      <td>5001</td>\n",
       "      <td>S2</td>\n",
       "      <td>23.0</td>\n",
       "    </tr>\n",
       "    <tr>\n",
       "      <th>1006</th>\n",
       "      <td>41243</td>\n",
       "      <td>FL</td>\n",
       "      <td>F</td>\n",
       "      <td>556</td>\n",
       "      <td>246</td>\n",
       "      <td>330.0</td>\n",
       "      <td>0</td>\n",
       "      <td>10272</td>\n",
       "      <td>2</td>\n",
       "      <td>56</td>\n",
       "      <td>277.0</td>\n",
       "      <td>292</td>\n",
       "      <td>9.818182</td>\n",
       "      <td>2</td>\n",
       "      <td>2201</td>\n",
       "      <td>S2</td>\n",
       "      <td>12.0</td>\n",
       "    </tr>\n",
       "  </tbody>\n",
       "</table>\n",
       "<p>1007 rows × 17 columns</p>\n",
       "</div>"
      ],
      "text/plain": [
       "      CONTROLN STATE GENDER      HV1  IC1    IC4  HVP1    IC5  POBC1  POBC2  \\\n",
       "0        44060    FL      M   AAA896  392  520.0     7  21975      6     16   \n",
       "1        96093    IL      M   537.00  365  473.0     0  19387      1     89   \n",
       "2        43333    FL      F   725.00  301  436.0     3  18837     11     17   \n",
       "3        21885    NC      M  AAA1095  401  413.0     7  14014      1     74   \n",
       "4       190108    FL      F   995.00  252  348.0     0  17991      5      6   \n",
       "...        ...   ...    ...      ...  ...    ...   ...    ...    ...    ...   \n",
       "1002    114721    OK    NaN     1040  472  656.0     0  26962      2     56   \n",
       "1003    149152    CA      M     4507  842  962.0    95  54642     17     50   \n",
       "1004       959    IA      F      586  349  465.0     1  15304      1     77   \n",
       "1005    179563    WA   male      842  420  494.0     2  12894     41     24   \n",
       "1006     41243    FL      F      556  246  330.0     0  10272      2     56   \n",
       "\n",
       "         IC2  IC3    AVGGIFT  TCODE   DOB DOMAIN  TARGET_D  \n",
       "0      430.0  466  28.000000      1  1901     C2     100.0  \n",
       "1      415.0  410   5.666667      0     0     T2       7.0  \n",
       "2      340.0  361   4.111111      0  2501     C2       5.0  \n",
       "3      407.0  399  27.277778      0  2208     T2      38.0  \n",
       "4      280.0  316   6.000000     28     0     C2       5.0  \n",
       "...      ...  ...        ...    ...   ...    ...       ...  \n",
       "1002   609.0  579  11.666667      0     0     C2      15.0  \n",
       "1003  1004.0  893  20.000000      1  4401     S1      20.0  \n",
       "1004   413.0  404   7.300000      0  4404     C2      10.0  \n",
       "1005   419.0  476  16.400000      1  5001     S2      23.0  \n",
       "1006   277.0  292   9.818182      2  2201     S2      12.0  \n",
       "\n",
       "[1007 rows x 17 columns]"
      ]
     },
     "execution_count": 16,
     "metadata": {},
     "output_type": "execute_result"
    }
   ],
   "source": [
    "# To ensure consistency and ease of use, -standardize- the -column names of the dataframe-. \n",
    "    # Start by taking a first -look at the dataframe- and identifying any -column names- that need -to be modified-. \n",
    "file1"
   ]
  },
  {
   "cell_type": "code",
   "execution_count": null,
   "id": "d5e002af",
   "metadata": {},
   "outputs": [],
   "source": [
    "# Use -appropriate naming conventions- and make sure that -column names- are -descriptive and informative-."
   ]
  },
  {
   "cell_type": "code",
   "execution_count": 17,
   "id": "f312ce91",
   "metadata": {},
   "outputs": [
    {
     "name": "stdout",
     "output_type": "stream",
     "text": [
      "      controln state gender      hv1  ic1    ic4  hvp1    ic5  pobc1  pobc2  \\\n",
      "0        44060    FL      M   AAA896  392  520.0     7  21975      6     16   \n",
      "1        96093    IL      M   537.00  365  473.0     0  19387      1     89   \n",
      "2        43333    FL      F   725.00  301  436.0     3  18837     11     17   \n",
      "3        21885    NC      M  AAA1095  401  413.0     7  14014      1     74   \n",
      "4       190108    FL      F   995.00  252  348.0     0  17991      5      6   \n",
      "...        ...   ...    ...      ...  ...    ...   ...    ...    ...    ...   \n",
      "1002    114721    OK    NaN     1040  472  656.0     0  26962      2     56   \n",
      "1003    149152    CA      M     4507  842  962.0    95  54642     17     50   \n",
      "1004       959    IA      F      586  349  465.0     1  15304      1     77   \n",
      "1005    179563    WA   male      842  420  494.0     2  12894     41     24   \n",
      "1006     41243    FL      F      556  246  330.0     0  10272      2     56   \n",
      "\n",
      "         ic2  ic3    avggift  tcode   dob domain  target_d  \n",
      "0      430.0  466  28.000000      1  1901     C2     100.0  \n",
      "1      415.0  410   5.666667      0     0     T2       7.0  \n",
      "2      340.0  361   4.111111      0  2501     C2       5.0  \n",
      "3      407.0  399  27.277778      0  2208     T2      38.0  \n",
      "4      280.0  316   6.000000     28     0     C2       5.0  \n",
      "...      ...  ...        ...    ...   ...    ...       ...  \n",
      "1002   609.0  579  11.666667      0     0     C2      15.0  \n",
      "1003  1004.0  893  20.000000      1  4401     S1      20.0  \n",
      "1004   413.0  404   7.300000      0  4404     C2      10.0  \n",
      "1005   419.0  476  16.400000      1  5001     S2      23.0  \n",
      "1006   277.0  292   9.818182      2  2201     S2      12.0  \n",
      "\n",
      "[1007 rows x 17 columns]\n"
     ]
    }
   ],
   "source": [
    "# Column names should be in lower case\n",
    "df = pd.DataFrame(file1)\n",
    "df.columns = df.columns.str.lower()\n",
    "print(df)"
   ]
  },
  {
   "cell_type": "code",
   "execution_count": 20,
   "id": "7d969d60",
   "metadata": {},
   "outputs": [
    {
     "name": "stdout",
     "output_type": "stream",
     "text": [
      "Index(['controln', 'state', 'gender', 'hv1', 'ic1', 'ic4', 'hvp1', 'ic5',\n",
      "       'pobc1', 'pobc2', 'ic2', 'ic3', 'avggift', 'tcode', 'dob', 'domain',\n",
      "       'target_d'],\n",
      "      dtype='object')\n"
     ]
    }
   ],
   "source": [
    "# White spaces in column names should be replaced by _\n",
    "column_names = file1.columns\n",
    "print(column_names)"
   ]
  },
  {
   "cell_type": "code",
   "execution_count": 26,
   "id": "f35fb50f",
   "metadata": {},
   "outputs": [
    {
     "name": "stdout",
     "output_type": "stream",
     "text": [
      "      controln state gender      hv1  ic1    ic4  hvp1    ic5  pobc1  pobc2  \\\n",
      "0        44060    FL      M   AAA896  392  520.0     7  21975      6     16   \n",
      "1        96093    IL      M   537.00  365  473.0     0  19387      1     89   \n",
      "2        43333    FL      F   725.00  301  436.0     3  18837     11     17   \n",
      "3        21885    NC      M  AAA1095  401  413.0     7  14014      1     74   \n",
      "4       190108    FL      F   995.00  252  348.0     0  17991      5      6   \n",
      "...        ...   ...    ...      ...  ...    ...   ...    ...    ...    ...   \n",
      "1002    114721    OK    NaN     1040  472  656.0     0  26962      2     56   \n",
      "1003    149152    CA      M     4507  842  962.0    95  54642     17     50   \n",
      "1004       959    IA      F      586  349  465.0     1  15304      1     77   \n",
      "1005    179563    WA   male      842  420  494.0     2  12894     41     24   \n",
      "1006     41243    FL      F      556  246  330.0     0  10272      2     56   \n",
      "\n",
      "         ic2  ic3    avggift  tcode   dob domain  target_d  \n",
      "0      430.0  466  28.000000      1  1901     C2     100.0  \n",
      "1      415.0  410   5.666667      0     0     T2       7.0  \n",
      "2      340.0  361   4.111111      0  2501     C2       5.0  \n",
      "3      407.0  399  27.277778      0  2208     T2      38.0  \n",
      "4      280.0  316   6.000000     28     0     C2       5.0  \n",
      "...      ...  ...        ...    ...   ...    ...       ...  \n",
      "1002   609.0  579  11.666667      0     0     C2      15.0  \n",
      "1003  1004.0  893  20.000000      1  4401     S1      20.0  \n",
      "1004   413.0  404   7.300000      0  4404     C2      10.0  \n",
      "1005   419.0  476  16.400000      1  5001     S2      23.0  \n",
      "1006   277.0  292   9.818182      2  2201     S2      12.0  \n",
      "\n",
      "[1007 rows x 17 columns]\n"
     ]
    }
   ],
   "source": [
    "# White spaces in column names should be replaced by _\n",
    "df = pd.DataFrame(file1)\n",
    "df = df.applymap(lambda x: x.replace(' ', '_') if isinstance(x, str) else x)\n",
    "print(df)"
   ]
  },
  {
   "cell_type": "code",
   "execution_count": 32,
   "id": "440d872f",
   "metadata": {},
   "outputs": [
    {
     "name": "stdout",
     "output_type": "stream",
     "text": [
      "      controln  st gender      hv1  ic1    ic4  hvp1    ic5  pobc1  pobc2  \\\n",
      "0        44060  FL      M   AAA896  392  520.0     7  21975      6     16   \n",
      "1        96093  IL      M   537.00  365  473.0     0  19387      1     89   \n",
      "2        43333  FL      F   725.00  301  436.0     3  18837     11     17   \n",
      "3        21885  NC      M  AAA1095  401  413.0     7  14014      1     74   \n",
      "4       190108  FL      F   995.00  252  348.0     0  17991      5      6   \n",
      "...        ...  ..    ...      ...  ...    ...   ...    ...    ...    ...   \n",
      "1002    114721  OK    NaN     1040  472  656.0     0  26962      2     56   \n",
      "1003    149152  CA      M     4507  842  962.0    95  54642     17     50   \n",
      "1004       959  IA      F      586  349  465.0     1  15304      1     77   \n",
      "1005    179563  WA   male      842  420  494.0     2  12894     41     24   \n",
      "1006     41243  FL      F      556  246  330.0     0  10272      2     56   \n",
      "\n",
      "         ic2  ic3    avggift  tcode   dob domain  target_d  \n",
      "0      430.0  466  28.000000      1  1901     C2     100.0  \n",
      "1      415.0  410   5.666667      0     0     T2       7.0  \n",
      "2      340.0  361   4.111111      0  2501     C2       5.0  \n",
      "3      407.0  399  27.277778      0  2208     T2      38.0  \n",
      "4      280.0  316   6.000000     28     0     C2       5.0  \n",
      "...      ...  ...        ...    ...   ...    ...       ...  \n",
      "1002   609.0  579  11.666667      0     0     C2      15.0  \n",
      "1003  1004.0  893  20.000000      1  4401     S1      20.0  \n",
      "1004   413.0  404   7.300000      0  4404     C2      10.0  \n",
      "1005   419.0  476  16.400000      1  5001     S2      23.0  \n",
      "1006   277.0  292   9.818182      2  2201     S2      12.0  \n",
      "\n",
      "[1007 rows x 17 columns]\n"
     ]
    }
   ],
   "source": [
    "# st could be replaced for state\n",
    "\n",
    "df.rename(columns={'state': 'st'}, inplace=True)\n",
    "print(df)"
   ]
  },
  {
   "cell_type": "code",
   "execution_count": 43,
   "id": "540dfcd4",
   "metadata": {},
   "outputs": [
    {
     "name": "stdout",
     "output_type": "stream",
     "text": [
      "      controlnr state gender median_home_value  Median Household Income  \\\n",
      "0         44060    FL      M            AAA896                      392   \n",
      "1         96093    IL      M            537.00                      365   \n",
      "2         43333    FL      F            725.00                      301   \n",
      "3         21885    NC      M           AAA1095                      401   \n",
      "4        190108    FL      F            995.00                      252   \n",
      "...         ...   ...    ...               ...                      ...   \n",
      "1002     114721    OK    NaN              1040                      472   \n",
      "1003     149152    CA      M              4507                      842   \n",
      "1004        959    IA      F               586                      349   \n",
      "1005     179563    WA   male               842                      420   \n",
      "1006      41243    FL      F               556                      246   \n",
      "\n",
      "      Average Family Income  Percent Home Value Per Capita Income  \\\n",
      "0                     520.0                   7             21975   \n",
      "1                     473.0                   0             19387   \n",
      "2                     436.0                   3             18837   \n",
      "3                     413.0                   7             14014   \n",
      "4                     348.0                   0             17991   \n",
      "...                     ...                 ...               ...   \n",
      "1002                  656.0                   0             26962   \n",
      "1003                  962.0                  95             54642   \n",
      "1004                  465.0                   1             15304   \n",
      "1005                  494.0                   2             12894   \n",
      "1006                  330.0                   0             10272   \n",
      "\n",
      "      Percent Foreign Born  Percent Born in State of Residence  \\\n",
      "0                        6                                  16   \n",
      "1                        1                                  89   \n",
      "2                       11                                  17   \n",
      "3                        1                                  74   \n",
      "4                        5                                   6   \n",
      "...                    ...                                 ...   \n",
      "1002                     2                                  56   \n",
      "1003                    17                                  50   \n",
      "1004                     1                                  77   \n",
      "1005                    41                                  24   \n",
      "1006                     2                                  56   \n",
      "\n",
      "      Median Family Income  Average Household Income    avggift  \\\n",
      "0                    430.0                       466  28.000000   \n",
      "1                    415.0                       410   5.666667   \n",
      "2                    340.0                       361   4.111111   \n",
      "3                    407.0                       399  27.277778   \n",
      "4                    280.0                       316   6.000000   \n",
      "...                    ...                       ...        ...   \n",
      "1002                 609.0                       579  11.666667   \n",
      "1003                1004.0                       893  20.000000   \n",
      "1004                 413.0                       404   7.300000   \n",
      "1005                 419.0                       476  16.400000   \n",
      "1006                 277.0                       292   9.818182   \n",
      "\n",
      "      Donor title code  Date of Birth domain  target_d  \n",
      "0                    1           1901     C2     100.0  \n",
      "1                    0              0     T2       7.0  \n",
      "2                    0           2501     C2       5.0  \n",
      "3                    0           2208     T2      38.0  \n",
      "4                   28              0     C2       5.0  \n",
      "...                ...            ...    ...       ...  \n",
      "1002                 0              0     C2      15.0  \n",
      "1003                 1           4401     S1      20.0  \n",
      "1004                 0           4404     C2      10.0  \n",
      "1005                 1           5001     S2      23.0  \n",
      "1006                 2           2201     S2      12.0  \n",
      "\n",
      "[1007 rows x 17 columns]\n"
     ]
    }
   ],
   "source": [
    "# Use -appropriate naming conventions- and make sure that -column names- are -descriptive and informative-.\n",
    "\n",
    "df.rename(columns={'controln': 'controlnr'}, inplace=True)\n",
    "df.rename(columns={'st': 'state'}, inplace=True)\n",
    "df.rename(columns={'hv1': 'median_home_value'}, inplace=True)\n",
    "df.rename(columns={'ic1': 'medianhousehold_income'}, inplace=True)\n",
    "df.rename(columns={'ic4': 'average_family_income'}, inplace=True)\n",
    "df.rename(columns={'hvp1': 'percent_home_value'}, inplace=True)\n",
    "df.rename(columns={'ic5': 'per_capita_income'}, inplace=True)\n",
    "df.rename(columns={'pobc1': 'percent_foreign_born'}, inplace=True)\n",
    "df.rename(columns={'pobc2': 'percent_born_in_state_of_residence'}, inplace=True)\n",
    "df.rename(columns={'ic2': 'median_family_income'}, inplace=True)\n",
    "df.rename(columns={'ic3': 'average_household_income'}, inplace=True)\n",
    "df.rename(columns={'tcode': 'donor_title_code'}, inplace=True)\n",
    "df.rename(columns={'dob': 'date_of_birth'}, inplace=True)\n",
    "df.rename(columns={'target_d ': 'donation_amount'}, inplace=True)\n",
    "\n",
    "print(df)"
   ]
  },
  {
   "cell_type": "code",
   "execution_count": 44,
   "id": "5810735c-8056-4442-bbf2-dda38d3e284a",
   "metadata": {},
   "outputs": [],
   "source": [
    "# Your code here"
   ]
  },
  {
   "cell_type": "markdown",
   "id": "9cb501ec-36ff-4589-b872-6252bb150316",
   "metadata": {},
   "source": [
    "## Exercise 2: Cleaning invalid Values"
   ]
  },
  {
   "cell_type": "markdown",
   "id": "771fdcf3-8e20-4b06-9c24-3a93ba2b0909",
   "metadata": {},
   "source": [
    "The dataset contains columns with inconsistent and incorrect values that could affect the accuracy of our analysis. Therefore, we need to clean these columns to ensure that they contain only valid data. \n",
    "\n",
    "Note that this exercise will focus only on cleaning inconsistent values and will not involve handling null values (NaN or None).\n",
    "\n",
    "*Hint*:\n",
    "- *Gender column contains various inconsistent values such as \"F\", \"M\", \"Femal\", \"Male\", \"female\", which need to be standardized, for example, to \"M\" and \"F\".*\n",
    "- *State abbreviations can replaced with its full name, for example \"AZ\": \"Arizona\", \"Cali\": \"California\", \"WA\": \"Washington\"*\n",
    "- *In education, \"Bachelors\" could be replaced by \"Bachelor\"*\n",
    "- *In Customer Lifetime Value, delete the `%` character*\n",
    "- *In vehicle class, \"Sports Car\", \"Luxury SUV\" and \"Luxury Car\" could be replaced by \"Luxury\"*"
   ]
  },
  {
   "cell_type": "code",
   "execution_count": null,
   "id": "69e4ed3a",
   "metadata": {},
   "outputs": [],
   "source": [
    "# The dataset contains columns with -inconsistent and incorrect values- that could affect the accuracy of our analysis.\n",
    "    # Therefore, we need to -clean these columns- to ensure that they contain -only valid data-.\n",
    "\n",
    "# Note that this exercise will focus -only on cleaning- inconsistent values \n",
    "# --and will not involve handling -null values (NaN or None)-."
   ]
  },
  {
   "cell_type": "code",
   "execution_count": 1,
   "id": "946a65d4",
   "metadata": {},
   "outputs": [],
   "source": [
    "# Hint:\n",
    "\n",
    "# -Gender column- contains various -inconsistent values- such as \n",
    "# --\"F\", \"M\", \"Femal\", \"Male\", \"female\", which need to be standardized, for example, to \"M\" and \"F\". \n",
    "\n",
    "# -State abbreviations- can -replaced- with its -full name-, \n",
    "#--for example \"AZ\": \"Arizona\", \"Cali\": \"California\", \"WA\": \"Washington\"\n",
    "\n",
    "# In education, \"Bachelors\" could be -replaced- by \"Bachelor\"\n",
    "\n",
    "# In Customer Lifetime Value, -delete- the -% character-\n",
    "\n",
    "# In -vehicle class-, \"Sports Car\", \"Luxury SUV\" and \"Luxury Car\" could be -replaced- by \"Luxury\""
   ]
  },
  {
   "cell_type": "code",
   "execution_count": 49,
   "id": "b294343e",
   "metadata": {},
   "outputs": [
    {
     "name": "stdout",
     "output_type": "stream",
     "text": [
      "['M' 'F' 'female' 'Male' nan 'U' 'J' 'male' 'Female' 'feamale']\n"
     ]
    }
   ],
   "source": [
    "unique_categories = df['gender'].unique()\n",
    "print(unique_categories)"
   ]
  },
  {
   "cell_type": "code",
   "execution_count": 57,
   "id": "1b3b48ed",
   "metadata": {},
   "outputs": [
    {
     "name": "stdout",
     "output_type": "stream",
     "text": [
      "      controln state gender      hv1  ic1    ic4  hvp1    ic5  pobc1  pobc2  \\\n",
      "0        44060    FL      M   AAA896  392  520.0     7  21975      6     16   \n",
      "1        96093    IL      M   537.00  365  473.0     0  19387      1     89   \n",
      "2        43333    FL      F   725.00  301  436.0     3  18837     11     17   \n",
      "3        21885    NC      M  AAA1095  401  413.0     7  14014      1     74   \n",
      "4       190108    FL      F   995.00  252  348.0     0  17991      5      6   \n",
      "...        ...   ...    ...      ...  ...    ...   ...    ...    ...    ...   \n",
      "1002    114721    OK    NaN     1040  472  656.0     0  26962      2     56   \n",
      "1003    149152    CA      M     4507  842  962.0    95  54642     17     50   \n",
      "1004       959    IA      F      586  349  465.0     1  15304      1     77   \n",
      "1005    179563    WA   male      842  420  494.0     2  12894     41     24   \n",
      "1006     41243    FL      F      556  246  330.0     0  10272      2     56   \n",
      "\n",
      "         ic2  ic3    avggift  tcode   dob domain  target_d  \n",
      "0      430.0  466  28.000000      1  1901     C2     100.0  \n",
      "1      415.0  410   5.666667      0     0     T2       7.0  \n",
      "2      340.0  361   4.111111      0  2501     C2       5.0  \n",
      "3      407.0  399  27.277778      0  2208     T2      38.0  \n",
      "4      280.0  316   6.000000     28     0     C2       5.0  \n",
      "...      ...  ...        ...    ...   ...    ...       ...  \n",
      "1002   609.0  579  11.666667      0     0     C2      15.0  \n",
      "1003  1004.0  893  20.000000      1  4401     S1      20.0  \n",
      "1004   413.0  404   7.300000      0  4404     C2      10.0  \n",
      "1005   419.0  476  16.400000      1  5001     S2      23.0  \n",
      "1006   277.0  292   9.818182      2  2201     S2      12.0  \n",
      "\n",
      "[1007 rows x 17 columns]\n"
     ]
    }
   ],
   "source": [
    "# -Gender column- contains various -inconsistent values- such as \n",
    "# --\"F\", \"M\", \"Femal\", \"Male\", \"female\", which need to be standardized, for example, to \"M\" and \"F\". \n",
    "df = pd.DataFrame(file1)\n",
    "standardize_mapping = {\n",
    "    'Gender': {'Male': 'M','male': 'M', 'female': 'F', 'Female': 'F', 'feamale': 'F'}}\n",
    "df = df.replace(standardize_mapping)\n",
    "print(df)\n"
   ]
  },
  {
   "cell_type": "code",
   "execution_count": 67,
   "id": "b5aedff6",
   "metadata": {},
   "outputs": [
    {
     "name": "stdout",
     "output_type": "stream",
     "text": [
      "      controln          state gender      hv1  ic1    ic4  hvp1    ic5  pobc1  \\\n",
      "0        44060        Florida      M   AAA896  392  520.0     7  21975      6   \n",
      "1        96093       Illinois      M   537.00  365  473.0     0  19387      1   \n",
      "2        43333        Florida      F   725.00  301  436.0     3  18837     11   \n",
      "3        21885  NorthCarolina      M  AAA1095  401  413.0     7  14014      1   \n",
      "4       190108        Florida      F   995.00  252  348.0     0  17991      5   \n",
      "...        ...            ...    ...      ...  ...    ...   ...    ...    ...   \n",
      "1002    114721             OK    NaN     1040  472  656.0     0  26962      2   \n",
      "1003    149152             CA      M     4507  842  962.0    95  54642     17   \n",
      "1004       959             IA      F      586  349  465.0     1  15304      1   \n",
      "1005    179563             WA   male      842  420  494.0     2  12894     41   \n",
      "1006     41243        Florida      F      556  246  330.0     0  10272      2   \n",
      "\n",
      "      pobc2     ic2  ic3    avggift  tcode   dob domain  target_d  \n",
      "0        16   430.0  466  28.000000      1  1901     C2     100.0  \n",
      "1        89   415.0  410   5.666667      0     0     T2       7.0  \n",
      "2        17   340.0  361   4.111111      0  2501     C2       5.0  \n",
      "3        74   407.0  399  27.277778      0  2208     T2      38.0  \n",
      "4         6   280.0  316   6.000000     28     0     C2       5.0  \n",
      "...     ...     ...  ...        ...    ...   ...    ...       ...  \n",
      "1002     56   609.0  579  11.666667      0     0     C2      15.0  \n",
      "1003     50  1004.0  893  20.000000      1  4401     S1      20.0  \n",
      "1004     77   413.0  404   7.300000      0  4404     C2      10.0  \n",
      "1005     24   419.0  476  16.400000      1  5001     S2      23.0  \n",
      "1006     56   277.0  292   9.818182      2  2201     S2      12.0  \n",
      "\n",
      "[1007 rows x 17 columns]\n"
     ]
    }
   ],
   "source": [
    "# -State abbreviations- can -replaced- with its -full name-, \n",
    "#--for example \"AZ\": \"Arizona\", \"Cali\": \"California\", \"WA\": \"Washington\"\n",
    "df = pd.DataFrame(file1)\n",
    "standardize_mapping = {'state': {'FL': 'Florida', 'IL' : 'Illinois', 'NC' : 'NorthCarolina'},\n",
    "}\n",
    "df = df.replace(standardize_mapping)\n",
    "print(df)"
   ]
  },
  {
   "cell_type": "code",
   "execution_count": 62,
   "id": "3f8ee5cb-50ab-48af-8a9f-9a389804033c",
   "metadata": {},
   "outputs": [],
   "source": [
    "# Your code here"
   ]
  },
  {
   "cell_type": "markdown",
   "id": "85ff78ce-0174-4890-9db3-8048b7d7d2d0",
   "metadata": {},
   "source": [
    "## Exercise 3: Formatting data types"
   ]
  },
  {
   "cell_type": "markdown",
   "id": "b91c2cf8-79a2-4baf-9f65-ff2fb22270bd",
   "metadata": {},
   "source": [
    "The data types of many columns in the dataset appear to be incorrect. This could impact the accuracy of our analysis. To ensure accurate analysis, we need to correct the data types of these columns. Please update the data types of the columns as appropriate. "
   ]
  },
  {
   "cell_type": "markdown",
   "id": "43e5d853-ff9e-43b2-9d92-aef2f78764f3",
   "metadata": {},
   "source": [
    "It is important to note that this exercise does not involve handling null values (NaN or None)."
   ]
  },
  {
   "cell_type": "markdown",
   "id": "329ca691-9196-4419-8969-3596746237a1",
   "metadata": {},
   "source": [
    "*Hint*:\n",
    "- *Customer lifetime value should be numeric*\n",
    "- *Number of open complaints has a wrong format, look at the diffrent values it takes with unique() and take the middle value, for example 1/5/00 should be 5. Number of open complaints is a string, remember you can use split() to deal with it and take the number you need. Finally, since it should be numeric, cast the column to be in its proper type.*"
   ]
  },
  {
   "cell_type": "code",
   "execution_count": null,
   "id": "56e4bbc8",
   "metadata": {},
   "outputs": [],
   "source": [
    "# The data types of many columns in the dataset appear to be incorrect. \n",
    "# This could impact the accuracy of our analysis. \n",
    "# To ensure accurate analysis, we need to correct the data types of these columns.\n",
    "# Please -update- the -data types of the columns- as appropriate."
   ]
  },
  {
   "cell_type": "code",
   "execution_count": null,
   "id": "e07a2c44",
   "metadata": {},
   "outputs": [],
   "source": [
    "# Hint:\n",
    "# Number of open complaints has a -wrong format-, \n",
    "#--look at the -diffrent values- it takes with -unique()- and take the -middle value-, for example 1/5/00 should be 5."
   ]
  },
  {
   "cell_type": "code",
   "execution_count": null,
   "id": "eb8f5991-73e9-405f-bf1c-6b7c589379a9",
   "metadata": {},
   "outputs": [],
   "source": [
    "# Your code here\n",
    "File1.csv does not contain any data about customer lifetime value, customers and complaints.\n",
    "Is there another file available where I can collect this data?"
   ]
  },
  {
   "cell_type": "markdown",
   "id": "14c52e28-2d0c-4dd2-8bd5-3476e34fadc1",
   "metadata": {},
   "source": [
    "## Exercise 4: Dealing with Null values"
   ]
  },
  {
   "cell_type": "markdown",
   "id": "34b9a20f-7d32-4417-975e-1b4dfb0e16cd",
   "metadata": {},
   "source": [
    "Identify any columns with null or missing values. Identify how many null values each column has. You can use the isnull() function in pandas to find columns with null values.\n",
    "\n",
    "Decide on a strategy for handling the null values. There are several options, including:\n",
    "\n",
    "- Drop the rows or columns with null values\n",
    "- Fill the null values with a specific value (such as the column mean or median for numerical variables and mode for categorical variables)\n",
    "- Fill the null values with the previous or next value in the column\n",
    "- Fill the null values based on a more complex algorithm or model (we haven't studied this yet)\n",
    "\n",
    "Implement your chosen strategy to handle the null values. You can use the fillna() function in pandas to fill null values or dropna() function to drop null values.\n",
    "\n",
    "Verify that your strategy has successfully handled the null values. You can use the isnull() function again to check if there are still null values in the dataset.\n",
    "\n",
    "Remember to document your process and explain your reasoning for choosing a particular strategy for handling null values. \n",
    "\n",
    "After formatting data types, as a last step, convert all the numeric variables to integers using applymap."
   ]
  },
  {
   "cell_type": "code",
   "execution_count": null,
   "id": "d56d351e",
   "metadata": {},
   "outputs": [],
   "source": [
    "# Identify any -columns- with -null or missing values-. \n",
    "# Identify -how many- null values -each column- has.\n",
    "    # You can use the -isnull() function- in -pandas- to find -columns with null values-."
   ]
  },
  {
   "cell_type": "code",
   "execution_count": 79,
   "id": "fe8618c5",
   "metadata": {},
   "outputs": [
    {
     "name": "stdout",
     "output_type": "stream",
     "text": [
      "Columns with Missing Values:\n",
      "['gender', 'hv1', 'ic4', 'ic2']\n"
     ]
    }
   ],
   "source": [
    "# Identify any -columns- with -null or missing values-. \n",
    "\n",
    "columns_with_missing_values = df.columns[df.isna().any()].tolist()\n",
    "print(\"Columns with Missing Values:\")\n",
    "print(columns_with_missing_values)"
   ]
  },
  {
   "cell_type": "code",
   "execution_count": 80,
   "id": "70e1deab",
   "metadata": {},
   "outputs": [
    {
     "name": "stdout",
     "output_type": "stream",
     "text": [
      "Null Values per Column:\n",
      "controln     0\n",
      "state        0\n",
      "gender      40\n",
      "hv1          2\n",
      "ic1          0\n",
      "ic4          1\n",
      "hvp1         0\n",
      "ic5          0\n",
      "pobc1        0\n",
      "pobc2        0\n",
      "ic2          1\n",
      "ic3          0\n",
      "avggift      0\n",
      "tcode        0\n",
      "dob          0\n",
      "domain       0\n",
      "target_d     0\n",
      "dtype: int64\n"
     ]
    }
   ],
   "source": [
    "# Identify -how many- null values -each column- has.\n",
    "null_values_per_column = df.isna().sum()\n",
    "print(\"Null Values per Column:\")\n",
    "print(null_values_per_column)"
   ]
  },
  {
   "cell_type": "code",
   "execution_count": null,
   "id": "89b0d9d6",
   "metadata": {},
   "outputs": [],
   "source": [
    "# Decide on a -strategy- for -handling the null values-. There are several options, including:\n",
    "\n",
    "    # -Drop- the rows or columns with null values\n",
    "    # -Fill- the null values with a -specific value-\n",
    "    #--(such as the column -mean or median- for numerical variables and -mode- for categorical variables)\n",
    "    # -Fill- the null values with the -previous or next value- in the column\n",
    "    # -Fill- the null values based on a -more complex algorithm or model- (we haven't studied this yet)"
   ]
  },
  {
   "cell_type": "code",
   "execution_count": 87,
   "id": "ceff4e92",
   "metadata": {},
   "outputs": [
    {
     "name": "stdout",
     "output_type": "stream",
     "text": [
      "      controln state gender      hv1  ic1    ic4  hvp1    ic5  pobc1  pobc2  \\\n",
      "0        44060    FL      M   AAA896  392  520.0     7  21975      6     16   \n",
      "1        43333    FL      F   725.00  301  436.0     3  18837     11     17   \n",
      "2        21885    NC      M  AAA1095  401  413.0     7  14014      1     74   \n",
      "3       190108    FL      F   995.00  252  348.0     0  17991      5      6   \n",
      "4       100640    IL      M   764.00  457  501.0     1  16022      2     75   \n",
      "...        ...   ...    ...      ...  ...    ...   ...    ...    ...    ...   \n",
      "1001    114721    OK      F     1040  472  656.0     0  26962      2     56   \n",
      "1002    149152    CA      M     4507  842  962.0    95  54642     17     50   \n",
      "1003       959    IA      F      586  349  465.0     1  15304      1     77   \n",
      "1004    179563    WA   male      842  420  494.0     2  12894     41     24   \n",
      "1005     41243    FL      F      556  246  330.0     0  10272      2     56   \n",
      "\n",
      "         ic2  ic3    avggift  tcode   dob domain  target_d  \n",
      "0      430.0  466  28.000000      1  1901     C2     100.0  \n",
      "1      340.0  361   4.111111      0  2501     C2       5.0  \n",
      "2      407.0  399  27.277778      0  2208     T2      38.0  \n",
      "3      280.0  316   6.000000     28     0     C2       5.0  \n",
      "4      477.0  480  25.571429      1  6104     S2      30.0  \n",
      "...      ...  ...        ...    ...   ...    ...       ...  \n",
      "1001   609.0  579  11.666667      0     0     C2      15.0  \n",
      "1002  1004.0  893  20.000000      1  4401     S1      20.0  \n",
      "1003   413.0  404   7.300000      0  4404     C2      10.0  \n",
      "1004   419.0  476  16.400000      1  5001     S2      23.0  \n",
      "1005   277.0  292   9.818182      2  2201     S2      12.0  \n",
      "\n",
      "[1006 rows x 17 columns]\n"
     ]
    }
   ],
   "source": [
    "# -Fill- the null values with a -specific value-\n",
    "\n",
    "mode_gender = df['gender'].mode().iloc[0]\n",
    "df['gender'].fillna(mode_gender, inplace=True)\n",
    "print(df) "
   ]
  },
  {
   "cell_type": "code",
   "execution_count": 86,
   "id": "3aacb318",
   "metadata": {},
   "outputs": [],
   "source": [
    "# -Implement- your -chosen strategy- to handle the null values. \n",
    "# You can use the -fillna() function- in -pandas- to fill null values or -dropna()function- to drop null values."
   ]
  },
  {
   "cell_type": "code",
   "execution_count": 92,
   "id": "3e23fed1",
   "metadata": {},
   "outputs": [
    {
     "name": "stdout",
     "output_type": "stream",
     "text": [
      "There are still null values in the DataFrame.\n"
     ]
    }
   ],
   "source": [
    "# -Verify- that your -strategy- has successfully handled the null values.\n",
    "# You can use the -isnull() function- again to -check- if there are -still null values in the dataset-.\n",
    "#print(null_values_per_column)\n",
    "are_null_values_present = df.isnull().any().any()\n",
    "if are_null_values_present:\n",
    "    print(\"There are still null values in the DataFrame.\")\n",
    "else:\n",
    "    print(\"There are no null values in the DataFrame.\")"
   ]
  },
  {
   "cell_type": "code",
   "execution_count": null,
   "id": "ab6be343",
   "metadata": {},
   "outputs": [],
   "source": [
    "# Remember to -document your process- and -explain your reasoning- \n",
    "#--for choosing a particular -strategy- for handling null values.\n",
    "I replaced the null values with the mode, because I think it is the savest value to apply when you have information missing.\n",
    "An other option would be to ask the company to provide the missing data by contacting donors. "
   ]
  },
  {
   "cell_type": "code",
   "execution_count": 95,
   "id": "32cf2b20",
   "metadata": {},
   "outputs": [
    {
     "name": "stdout",
     "output_type": "stream",
     "text": [
      "      controln state gender      hv1  ic1    ic4  hvp1    ic5  pobc1  pobc2  \\\n",
      "0        44060    FL      M   AAA896  392  520.0     7  21975      6     16   \n",
      "1        43333    FL      F   725.00  301  436.0     3  18837     11     17   \n",
      "2        21885    NC      M  AAA1095  401  413.0     7  14014      1     74   \n",
      "3       190108    FL      F   995.00  252  348.0     0  17991      5      6   \n",
      "4       100640    IL      M   764.00  457  501.0     1  16022      2     75   \n",
      "...        ...   ...    ...      ...  ...    ...   ...    ...    ...    ...   \n",
      "1001    114721    OK      F     1040  472  656.0     0  26962      2     56   \n",
      "1002    149152    CA      M     4507  842  962.0    95  54642     17     50   \n",
      "1003       959    IA      F      586  349  465.0     1  15304      1     77   \n",
      "1004    179563    WA   male      842  420  494.0     2  12894     41     24   \n",
      "1005     41243    FL      F      556  246  330.0     0  10272      2     56   \n",
      "\n",
      "         ic2  ic3  avggift  tcode   dob domain  target_d  \n",
      "0      430.0  466       28      1  1901     C2       100  \n",
      "1      340.0  361        4      0  2501     C2         5  \n",
      "2      407.0  399       27      0  2208     T2        38  \n",
      "3      280.0  316        6     28     0     C2         5  \n",
      "4      477.0  480       25      1  6104     S2        30  \n",
      "...      ...  ...      ...    ...   ...    ...       ...  \n",
      "1001   609.0  579       11      0     0     C2        15  \n",
      "1002  1004.0  893       20      1  4401     S1        20  \n",
      "1003   413.0  404        7      0  4404     C2        10  \n",
      "1004   419.0  476       16      1  5001     S2        23  \n",
      "1005   277.0  292        9      2  2201     S2        12  \n",
      "\n",
      "[1006 rows x 17 columns]\n"
     ]
    }
   ],
   "source": [
    "# After -formatting data types-, as a last step, -convert- all the -numeric variables to integers- using -applymap-.\n",
    "def convert_to_int(x):\n",
    "    try:\n",
    "        return int(x)\n",
    "    except (ValueError, TypeError):\n",
    "        return x\n",
    "    \n",
    "df = df.applymap(convert_to_int)\n",
    "print(df)"
   ]
  },
  {
   "cell_type": "code",
   "execution_count": null,
   "id": "f184fc35-7831-4836-a0a5-e7f99e01b40e",
   "metadata": {},
   "outputs": [],
   "source": [
    "# Your code here"
   ]
  },
  {
   "cell_type": "markdown",
   "id": "98416351-e999-4156-9834-9b00a311adfa",
   "metadata": {},
   "source": [
    "## Exercise 5: Dealing with duplicates"
   ]
  },
  {
   "cell_type": "markdown",
   "id": "ea0816a7-a18e-4d4c-b667-a8452a800bd1",
   "metadata": {},
   "source": [
    "Use the .duplicated() method to identify any duplicate rows in the dataframe.\n",
    "\n",
    "Decide on a strategy for handling the duplicates. Options include:\n",
    "- Dropping all duplicate rows\n",
    "- Keeping only the first occurrence of each duplicated row\n",
    "- Keeping only the last occurrence of each duplicated row\n",
    "- Dropping duplicates based on a subset of columns\n",
    "- Dropping duplicates based on a specific column\n",
    "\n",
    "Implement your chosen strategy using the drop_duplicates() function.\n",
    "\n",
    "Verify that your strategy has successfully handled the duplicates by checking for duplicates again using .duplicated().\n",
    "\n",
    "Remember to document your process and explain your reasoning for choosing a particular strategy for handling duplicates.\n",
    "\n",
    "Save the cleaned dataset to a new CSV file.\n",
    "\n",
    "*Hint*: *after dropping duplicates, reset the index to ensure consistency*."
   ]
  },
  {
   "cell_type": "code",
   "execution_count": null,
   "id": "905a23df",
   "metadata": {},
   "outputs": [],
   "source": [
    "# Use the -.duplicated() method- to identify any -duplicate rows- in the -dataframe-.\n",
    "\n",
    "# Decide on a -strategy- for -handling the duplicates-. Options include:\n",
    "\n",
    "# -Dropping- all duplicate rows\n",
    "# Keeping -only the first occurrence- of each duplicated row\n",
    "# Keeping -only the last occurrence- of each duplicated row\n",
    "# -Dropping- duplicates -based on a subset of columns-\n",
    "# -Dropping- duplicates -based on a specific column-"
   ]
  },
  {
   "cell_type": "code",
   "execution_count": 68,
   "id": "ae110ce7",
   "metadata": {},
   "outputs": [
    {
     "name": "stdout",
     "output_type": "stream",
     "text": [
      "Duplicate Rows:\n",
      "      controln state gender   hv1  ic1    ic4  hvp1    ic5  pobc1  pobc2  \\\n",
      "999     127823    TX      F   258   64   74.0     0   4236      0     94   \n",
      "1000    150739    CA      U  1951  556  625.0    44  17208     10     66   \n",
      "1002    114721    OK    NaN  1040  472  656.0     0  26962      2     56   \n",
      "1003    149152    CA      M  4507  842  962.0    95  54642     17     50   \n",
      "1004       959    IA      F   586  349  465.0     1  15304      1     77   \n",
      "1005    179563    WA   male   842  420  494.0     2  12894     41     24   \n",
      "1006     41243    FL      F   556  246  330.0     0  10272      2     56   \n",
      "\n",
      "         ic2  ic3    avggift  tcode   dob domain  target_d  \n",
      "999     60.0   93   5.450000      2  2301     C3       6.0  \n",
      "1000   578.0  619   9.681818      2  5410     S1      12.0  \n",
      "1002   609.0  579  11.666667      0     0     C2      15.0  \n",
      "1003  1004.0  893  20.000000      1  4401     S1      20.0  \n",
      "1004   413.0  404   7.300000      0  4404     C2      10.0  \n",
      "1005   419.0  476  16.400000      1  5001     S2      23.0  \n",
      "1006   277.0  292   9.818182      2  2201     S2      12.0  \n"
     ]
    }
   ],
   "source": [
    "# Use the -.duplicated() method- to identify any -duplicate rows- in the -dataframe-.\n",
    "df = pd.DataFrame(file1)\n",
    "duplicates = df[df.duplicated()]\n",
    "print(\"Duplicate Rows:\")\n",
    "print(duplicates)"
   ]
  },
  {
   "cell_type": "code",
   "execution_count": null,
   "id": "fad8fdca",
   "metadata": {},
   "outputs": [],
   "source": [
    "# Decide on a -strategy- for -handling the duplicates-.\n",
    "My strategy is to drop all duplicate rows, because they are confusing and the dataframe will present wrong information based on duplicated data."
   ]
  },
  {
   "cell_type": "code",
   "execution_count": 74,
   "id": "73928d56",
   "metadata": {},
   "outputs": [
    {
     "name": "stdout",
     "output_type": "stream",
     "text": [
      "DataFrame without Duplicates:\n",
      "      controln state gender      hv1  ic1    ic4  hvp1    ic5  pobc1  pobc2  \\\n",
      "0        44060    FL      M   AAA896  392  520.0     7  21975      6     16   \n",
      "1        96093    IL      M   537.00  365  473.0     0  19387      1     89   \n",
      "2        43333    FL      F   725.00  301  436.0     3  18837     11     17   \n",
      "3        21885    NC      M  AAA1095  401  413.0     7  14014      1     74   \n",
      "4       190108    FL      F   995.00  252  348.0     0  17991      5      6   \n",
      "...        ...   ...    ...      ...  ...    ...   ...    ...    ...    ...   \n",
      "995      30104    GA      M      364  246  325.0     0   9720      0     89   \n",
      "996     154614    CA      F     1709  511  537.0    26  15138      9     68   \n",
      "997      57151    KY      F      875  311  326.0     0   7746      3     29   \n",
      "998      71425    MI      M      713  300  364.0     0  16833      2     88   \n",
      "1001     41384    FL      F      556  318  352.0     0  11779     16     22   \n",
      "\n",
      "        ic2  ic3    avggift  tcode   dob domain  target_d  \n",
      "0     430.0  466  28.000000      1  1901     C2     100.0  \n",
      "1     415.0  410   5.666667      0     0     T2       7.0  \n",
      "2     340.0  361   4.111111      0  2501     C2       5.0  \n",
      "3     407.0  399  27.277778      0  2208     T2      38.0  \n",
      "4     280.0  316   6.000000     28     0     C2       5.0  \n",
      "...     ...  ...        ...    ...   ...    ...       ...  \n",
      "995   307.0  287   8.833333      1  5201     R2      15.0  \n",
      "996   518.0  527  15.000000      0     0     T1      20.0  \n",
      "997   326.0  326  15.900000      0  3601     R1      26.0  \n",
      "998   313.0  323   6.000000      1  4401     T2       7.0  \n",
      "1001  358.0  320   9.428571     28  5107     S3      12.0  \n",
      "\n",
      "[1000 rows x 17 columns]\n"
     ]
    }
   ],
   "source": [
    "# Implement your chosen strategy using the drop_duplicates() function.\n",
    "# -Dropping- all duplicate rows\n",
    "df_no_duplicates = df.drop_duplicates()\n",
    "print(\"DataFrame without Duplicates:\")\n",
    "print(df_no_duplicates)"
   ]
  },
  {
   "cell_type": "code",
   "execution_count": 76,
   "id": "f3c551f0",
   "metadata": {},
   "outputs": [
    {
     "name": "stdout",
     "output_type": "stream",
     "text": [
      "      controln state gender      hv1  ic1    ic4  hvp1    ic5  pobc1  pobc2  \\\n",
      "0        44060    FL      M   AAA896  392  520.0     7  21975      6     16   \n",
      "1        96093    IL      M   537.00  365  473.0     0  19387      1     89   \n",
      "2        43333    FL      F   725.00  301  436.0     3  18837     11     17   \n",
      "3        21885    NC      M  AAA1095  401  413.0     7  14014      1     74   \n",
      "4       190108    FL      F   995.00  252  348.0     0  17991      5      6   \n",
      "...        ...   ...    ...      ...  ...    ...   ...    ...    ...    ...   \n",
      "995      30104    GA      M      364  246  325.0     0   9720      0     89   \n",
      "996     154614    CA      F     1709  511  537.0    26  15138      9     68   \n",
      "997      57151    KY      F      875  311  326.0     0   7746      3     29   \n",
      "998      71425    MI      M      713  300  364.0     0  16833      2     88   \n",
      "1001     41384    FL      F      556  318  352.0     0  11779     16     22   \n",
      "\n",
      "        ic2  ic3    avggift  tcode   dob domain  target_d  \n",
      "0     430.0  466  28.000000      1  1901     C2     100.0  \n",
      "1     415.0  410   5.666667      0     0     T2       7.0  \n",
      "2     340.0  361   4.111111      0  2501     C2       5.0  \n",
      "3     407.0  399  27.277778      0  2208     T2      38.0  \n",
      "4     280.0  316   6.000000     28     0     C2       5.0  \n",
      "...     ...  ...        ...    ...   ...    ...       ...  \n",
      "995   307.0  287   8.833333      1  5201     R2      15.0  \n",
      "996   518.0  527  15.000000      0     0     T1      20.0  \n",
      "997   326.0  326  15.900000      0  3601     R1      26.0  \n",
      "998   313.0  323   6.000000      1  4401     T2       7.0  \n",
      "1001  358.0  320   9.428571     28  5107     S3      12.0  \n",
      "\n",
      "[1000 rows x 17 columns]\n"
     ]
    }
   ],
   "source": [
    "# Verify that your strategy has successfully handled the duplicates \n",
    "#--by checking for duplicates again using .duplicated().\n",
    "print(df_no_duplicates)\n",
    "\n",
    "In this dataframe only displaying the first and last 5 rows, row 999 and 1000 are dropped."
   ]
  },
  {
   "cell_type": "code",
   "execution_count": null,
   "id": "2af3864d",
   "metadata": {},
   "outputs": [],
   "source": [
    "# Remember to document your process and explain your reasoning \n",
    "#--for choosing a particular strategy for handling duplicates."
   ]
  },
  {
   "cell_type": "code",
   "execution_count": 77,
   "id": "cf2fba8b",
   "metadata": {},
   "outputs": [
    {
     "name": "stdout",
     "output_type": "stream",
     "text": [
      "Cleaned dataset saved to 'cleaned_dataset_file1.csv'.\n"
     ]
    }
   ],
   "source": [
    "# Save the cleaned dataset to a new CSV file.\n",
    "\n",
    "df_cleaned = df.drop_duplicates()\n",
    "df_cleaned.to_csv('cleaned_dataset_file1.csv', index=False)\n",
    "print(\"Cleaned dataset saved to 'cleaned_dataset_file1.csv'.\")"
   ]
  },
  {
   "cell_type": "code",
   "execution_count": 78,
   "id": "723e3561",
   "metadata": {},
   "outputs": [
    {
     "name": "stdout",
     "output_type": "stream",
     "text": [
      "      controln state gender      hv1  ic1    ic4  hvp1    ic5  pobc1  pobc2  \\\n",
      "0        44060    FL      M   AAA896  392  520.0     7  21975      6     16   \n",
      "1        43333    FL      F   725.00  301  436.0     3  18837     11     17   \n",
      "2        21885    NC      M  AAA1095  401  413.0     7  14014      1     74   \n",
      "3       190108    FL      F   995.00  252  348.0     0  17991      5      6   \n",
      "4       100640    IL      M   764.00  457  501.0     1  16022      2     75   \n",
      "...        ...   ...    ...      ...  ...    ...   ...    ...    ...    ...   \n",
      "1001    114721    OK    NaN     1040  472  656.0     0  26962      2     56   \n",
      "1002    149152    CA      M     4507  842  962.0    95  54642     17     50   \n",
      "1003       959    IA      F      586  349  465.0     1  15304      1     77   \n",
      "1004    179563    WA   male      842  420  494.0     2  12894     41     24   \n",
      "1005     41243    FL      F      556  246  330.0     0  10272      2     56   \n",
      "\n",
      "         ic2  ic3    avggift  tcode   dob domain  target_d  \n",
      "0      430.0  466  28.000000      1  1901     C2     100.0  \n",
      "1      340.0  361   4.111111      0  2501     C2       5.0  \n",
      "2      407.0  399  27.277778      0  2208     T2      38.0  \n",
      "3      280.0  316   6.000000     28     0     C2       5.0  \n",
      "4      477.0  480  25.571429      1  6104     S2      30.0  \n",
      "...      ...  ...        ...    ...   ...    ...       ...  \n",
      "1001   609.0  579  11.666667      0     0     C2      15.0  \n",
      "1002  1004.0  893  20.000000      1  4401     S1      20.0  \n",
      "1003   413.0  404   7.300000      0  4404     C2      10.0  \n",
      "1004   419.0  476  16.400000      1  5001     S2      23.0  \n",
      "1005   277.0  292   9.818182      2  2201     S2      12.0  \n",
      "\n",
      "[1006 rows x 17 columns]\n"
     ]
    }
   ],
   "source": [
    "# Hint: after dropping duplicates, reset the index to ensure consistency.\n",
    "df = df.drop(index=1)\n",
    "df = df.reset_index(drop=True)\n",
    "print(df)"
   ]
  },
  {
   "cell_type": "code",
   "execution_count": null,
   "id": "1929362c-47ed-47cb-baca-358b78d401a0",
   "metadata": {},
   "outputs": [],
   "source": [
    "# Your code here"
   ]
  },
  {
   "cell_type": "markdown",
   "id": "60840701-4783-40e2-b4d8-55303f9100c9",
   "metadata": {},
   "source": [
    "# Bonus: Challenge 2: creating functions on a separate `py` file"
   ]
  },
  {
   "cell_type": "markdown",
   "id": "9d1adb3a-17cf-4899-8041-da21a4337fb4",
   "metadata": {},
   "source": [
    "Put all the data cleaning and formatting steps into functions, and create a main function that performs all the cleaning and formatting. \n",
    "\n",
    "Write these functions in a separate .py file(s). By putting these steps into functions, we can make the code more modular and easier to maintain. "
   ]
  },
  {
   "cell_type": "markdown",
   "id": "0e170dc2-b62c-417a-8248-e63ed18a70c4",
   "metadata": {},
   "source": [
    "*Hint: autoreload module is a utility module in Python that allows you to automatically reload modules in the current session when changes are made to the source code. This can be useful in situations where you are actively developing code and want to see the effects of changes you make without having to constantly restart the Python interpreter or Jupyter Notebook kernel.*"
   ]
  },
  {
   "cell_type": "code",
   "execution_count": null,
   "id": "a52c6dfc-cd11-4d01-bda4-f719fa33e9a4",
   "metadata": {},
   "outputs": [],
   "source": [
    "# Your code here"
   ]
  },
  {
   "cell_type": "markdown",
   "id": "80f846bb-3f5e-4ca2-96c0-900728daca5a",
   "metadata": {
    "tags": []
   },
   "source": [
    "# Bonus: Challenge 3: Analyzing Clean and Formated Data"
   ]
  },
  {
   "cell_type": "markdown",
   "id": "9021630e-cc90-446c-b5bd-264d6c864207",
   "metadata": {},
   "source": [
    "You have been tasked with analyzing the data to identify potential areas for improving customer retention and profitability. Your goal is to identify customers with a high policy claim amount and a low customer lifetime value.\n",
    "\n",
    "In Pandas Lab, we only looked at high policy claim amounts because we couldn't look into low customer lifetime values. If we tried to do work with that column, we wouldn't have been able to do it because customer lifetime value wasn't clean and in its proper format. So after cleaning and formatting the data, lets get some more interesting insights!\n",
    "\n",
    "Instructions:\n",
    "\n",
    "- Review again the statistics for total claim amount and customer lifetime value to gain an understanding of the data.\n",
    "- To identify potential areas for improving customer retention and profitability, we want to focus on customers with a high policy claim amount and a low customer lifetime value. Consider customers with a high policy claim amount to be those in the top 25% of the total claim amount, and clients with a low customer lifetime value to be those in the bottom 25% of the customer lifetime value. Create a pandas DataFrame object that contains information about customers with a policy claim amount greater than the 75th percentile and a customer lifetime value in the bottom 25th percentile.\n",
    "- Use DataFrame methods to calculate summary statistics about the high policy claim amount and low customer lifetime value data. To do so, select both columns of the dataframe simultaneously and pass it to the .describe() method. This will give you descriptive statistics, such as mean, median, standard deviation, minimum and maximum values for both columns at the same time, allowing you to compare and analyze their characteristics."
   ]
  },
  {
   "cell_type": "code",
   "execution_count": null,
   "id": "211e82b5-461a-4d6f-8a23-4deccb84173c",
   "metadata": {},
   "outputs": [],
   "source": [
    "# Your code here"
   ]
  }
 ],
 "metadata": {
  "kernelspec": {
   "display_name": "Python 3 (ipykernel)",
   "language": "python",
   "name": "python3"
  },
  "language_info": {
   "codemirror_mode": {
    "name": "ipython",
    "version": 3
   },
   "file_extension": ".py",
   "mimetype": "text/x-python",
   "name": "python",
   "nbconvert_exporter": "python",
   "pygments_lexer": "ipython3",
   "version": "3.11.3"
  }
 },
 "nbformat": 4,
 "nbformat_minor": 5
}
